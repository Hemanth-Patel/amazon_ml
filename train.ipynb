{
 "cells": [
  {
   "cell_type": "code",
   "execution_count": 1,
   "metadata": {},
   "outputs": [],
   "source": [
    "import torch\n",
    "import torch.nn as nn\n",
    "from torchvision import models\n",
    "\n",
    "# Image Encoder\n",
    "class ImageEncoder(nn.Module):\n",
    "    def __init__(self, pretrained=True):\n",
    "        super(ImageEncoder, self).__init__()\n",
    "        resnet = models.resnet50(pretrained=pretrained)\n",
    "        self.features = nn.Sequential(*list(resnet.children())[:-1])  # Remove final classification layer\n",
    "\n",
    "    def forward(self, x):\n",
    "        x = self.features(x)\n",
    "        x = x.view(x.size(0), -1)  # Flatten\n",
    "        return x\n",
    "\n",
    "# Entity Type Encoder\n",
    "class EntityEncoder(nn.Module):\n",
    "    def __init__(self, num_entities, embedding_dim):\n",
    "        super(EntityEncoder, self).__init__()\n",
    "        self.embedding = nn.Embedding(num_entities, embedding_dim)\n",
    "\n",
    "    def forward(self, x):\n",
    "        x = self.embedding(x)\n",
    "        return x\n",
    "\n",
    "# Combined Model\n",
    "class AttributePredictor(nn.Module):\n",
    "    def __init__(self, num_entities, embedding_dim):\n",
    "        super(AttributePredictor, self).__init__()\n",
    "        self.image_encoder = ImageEncoder()\n",
    "        self.entity_encoder = EntityEncoder(num_entities, embedding_dim)\n",
    "        self.fc = nn.Sequential(\n",
    "            nn.Linear(2048 + embedding_dim, 512),\n",
    "            nn.ReLU(),\n",
    "            nn.Dropout(0.5),\n",
    "            nn.Linear(512, 1)  # Output scalar value\n",
    "        )\n",
    "\n",
    "    def forward(self, image, entity_type):\n",
    "        image_features = self.image_encoder(image)\n",
    "        entity_features = self.entity_encoder(entity_type)\n",
    "        combined = torch.cat((image_features, entity_features), dim=1)\n",
    "        output = self.fc(combined)\n",
    "        return output\n"
   ]
  }
 ],
 "metadata": {
  "kernelspec": {
   "display_name": "Python 3",
   "language": "python",
   "name": "python3"
  },
  "language_info": {
   "codemirror_mode": {
    "name": "ipython",
    "version": 3
   },
   "file_extension": ".py",
   "mimetype": "text/x-python",
   "name": "python",
   "nbconvert_exporter": "python",
   "pygments_lexer": "ipython3",
   "version": "3.8.10"
  }
 },
 "nbformat": 4,
 "nbformat_minor": 2
}
